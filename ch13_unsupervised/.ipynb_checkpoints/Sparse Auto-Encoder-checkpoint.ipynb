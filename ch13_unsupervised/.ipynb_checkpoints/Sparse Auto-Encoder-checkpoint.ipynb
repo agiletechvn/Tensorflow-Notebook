{
 "cells": [
  {
   "cell_type": "markdown",
   "metadata": {},
   "source": [
    "# Ch `13`: Concept `03`"
   ]
  },
  {
   "cell_type": "markdown",
   "metadata": {},
   "source": [
    "Import the required libraries and data"
   ]
  },
  {
   "cell_type": "code",
   "execution_count": 1,
   "metadata": {},
   "outputs": [],
   "source": [
    "import tensorflow as tf\n",
    "import numpy as np\n",
    "import matplotlib.pyplot as plt\n",
    "%matplotlib inline\n",
    "import time"
   ]
  },
  {
   "cell_type": "markdown",
   "metadata": {},
   "source": [
    "Import MNIST data"
   ]
  },
  {
   "cell_type": "code",
   "execution_count": 2,
   "metadata": {},
   "outputs": [
    {
     "name": "stdout",
     "output_type": "stream",
     "text": [
      "Extracting MNIST_data/train-images-idx3-ubyte.gz\n",
      "Extracting MNIST_data/train-labels-idx1-ubyte.gz\n",
      "Extracting MNIST_data/t10k-images-idx3-ubyte.gz\n",
      "Extracting MNIST_data/t10k-labels-idx1-ubyte.gz\n"
     ]
    }
   ],
   "source": [
    "from tensorflow.examples.tutorials.mnist import input_data\n",
    "mnist = input_data.read_data_sets(\"MNIST_data\", one_hot=True)"
   ]
  },
  {
   "cell_type": "markdown",
   "metadata": {},
   "source": [
    "Parameters for training the Network"
   ]
  },
  {
   "cell_type": "code",
   "execution_count": 31,
   "metadata": {},
   "outputs": [],
   "source": [
    "learning_rate = 0.001\n",
    "training_epochs = 200\n",
    "batch_size = 1000\n",
    "display_step = 1\n",
    "examples_to_show = 10\n",
    "\n",
    "# Network Parameters\n",
    "# Hidden units are more than the input dimensionality since the intention\n",
    "# is to learn sparse representation of hidden units\n",
    "n_hidden_1 = 32*32\n",
    "n_input = 784 # MNIST data input (img shape: 28*28)\n",
    "X = tf.placeholder(\"float\", [None, n_input])\n",
    "weights = {\n",
    "    'encoder_h1': tf.Variable(tf.random_normal([n_input, n_hidden_1])),\n",
    "    'decoder_h1': tf.Variable(tf.random_normal([n_hidden_1, n_input])),\n",
    "}\n",
    "biases = {\n",
    "    'encoder_b1': tf.Variable(tf.random_normal([n_hidden_1])),\n",
    "    'decoder_b1': tf.Variable(tf.random_normal([n_input])),\n",
    "}"
   ]
  },
  {
   "cell_type": "markdown",
   "metadata": {},
   "source": [
    "Building the encoder"
   ]
  },
  {
   "cell_type": "code",
   "execution_count": 32,
   "metadata": {},
   "outputs": [],
   "source": [
    "def encoder(x):\n",
    "    # Encoder Hidden layer with sigmoid activation #1\n",
    "    layer_1 = tf.nn.sigmoid(tf.add(tf.matmul(x, weights['encoder_h1']), biases['encoder_b1']))\n",
    "    return layer_1\n"
   ]
  },
  {
   "cell_type": "markdown",
   "metadata": {},
   "source": [
    "Building the decoder"
   ]
  },
  {
   "cell_type": "code",
   "execution_count": 36,
   "metadata": {},
   "outputs": [],
   "source": [
    "def decoder(x):\n",
    "    layer_1 = tf.nn.sigmoid(tf.add(tf.matmul(x, tf.transpose(weights['encoder_h1'])), \\\n",
    "                                   biases['decoder_b1']))\n",
    "    return layer_1"
   ]
  },
  {
   "cell_type": "markdown",
   "metadata": {},
   "source": [
    "Define the log-based function to be used in computing the KL Divergence"
   ]
  },
  {
   "cell_type": "code",
   "execution_count": 37,
   "metadata": {},
   "outputs": [],
   "source": [
    "def log_func(x1, x2):\n",
    "    return tf.multiply(x1, tf.log(tf.div(x1,x2)))\n",
    "\n",
    "def KL_Div(rho, rho_hat):\n",
    "    inv_rho = tf.subtract(tf.constant(1.), rho)\n",
    "    inv_rhohat = tf.subtract(tf.constant(1.), rho_hat)\n",
    "    log_rho = log_func(rho,rho_hat) + log_func(inv_rho, inv_rhohat)\n",
    "    return log_rho"
   ]
  },
  {
   "cell_type": "markdown",
   "metadata": {},
   "source": [
    "Model definition"
   ]
  },
  {
   "cell_type": "code",
   "execution_count": 38,
   "metadata": {},
   "outputs": [],
   "source": [
    "encoder_op = encoder(X)\n",
    "decoder_op = decoder(encoder_op)\n",
    "rho_hat = tf.reduce_mean(encoder_op,1)"
   ]
  },
  {
   "cell_type": "markdown",
   "metadata": {},
   "source": [
    "Reconstructed output"
   ]
  },
  {
   "cell_type": "code",
   "execution_count": 39,
   "metadata": {},
   "outputs": [],
   "source": [
    "y_pred = decoder_op\n",
    "y_true = X\n",
    "# Define the TensorFlow Ops for loss and optimizer, minimize the combined error\n",
    "# Squared Reconstruction error\n",
    "cost_m = tf.reduce_mean(tf.pow(y_true - y_pred, 2))\n",
    "# KL Divergence Regularization to introduce sparsity\n",
    "cost_sparse = 0.001*tf.reduce_sum(KL_Div(0.2,rho_hat))\n",
    "# L2 Regularization of weights to keep the network stable\n",
    "cost_reg = 0.0001* (tf.nn.l2_loss(weights['decoder_h1']) + tf.nn.l2_loss(weights\n",
    "['encoder_h1']))\n",
    "# Add up the costs\n",
    "cost = tf.add(cost_reg,tf.add(cost_m,cost_sparse))\n",
    "optimizer = tf.train.RMSPropOptimizer(learning_rate).minimize(cost)\n",
    "# Initializing the variables\n",
    "init = tf.global_variables_initializer()"
   ]
  },
  {
   "cell_type": "markdown",
   "metadata": {},
   "source": [
    "Launch the Session graph"
   ]
  },
  {
   "cell_type": "code",
   "execution_count": 40,
   "metadata": {},
   "outputs": [
    {
     "name": "stdout",
     "output_type": "stream",
     "text": [
      "Epoch: 0001 cost= 80.858047485\n",
      "Epoch: 0002 cost= 80.765884399\n",
      "Epoch: 0003 cost= 79.268035889\n",
      "Epoch: 0004 cost= 73.489753723\n",
      "Epoch: 0005 cost= 67.169189453\n",
      "Epoch: 0006 cost= 61.276992798\n",
      "Epoch: 0007 cost= 55.802894592\n",
      "Epoch: 0008 cost= 50.727928162\n",
      "Epoch: 0009 cost= 46.028846741\n",
      "Epoch: 0010 cost= 41.691268921\n",
      "Epoch: 0011 cost= 37.693141937\n",
      "Epoch: 0012 cost= 34.015552521\n",
      "Epoch: 0013 cost= 30.640348434\n",
      "Epoch: 0014 cost= 27.547897339\n",
      "Epoch: 0015 cost= 24.723182678\n",
      "Epoch: 0016 cost= 22.143636703\n",
      "Epoch: 0017 cost= 19.795804977\n",
      "Epoch: 0018 cost= 17.662178040\n",
      "Epoch: 0019 cost= 15.727974892\n",
      "Epoch: 0020 cost= 13.977905273\n",
      "Epoch: 0021 cost= 12.398056030\n",
      "Epoch: 0022 cost= 10.974398613\n",
      "Epoch: 0023 cost= 9.693997383\n",
      "Epoch: 0024 cost= 8.546010971\n",
      "Epoch: 0025 cost= 7.517593384\n",
      "Epoch: 0026 cost= 6.599705696\n",
      "Epoch: 0027 cost= 5.781756401\n",
      "Epoch: 0028 cost= 5.055027485\n",
      "Epoch: 0029 cost= 4.410412312\n",
      "Epoch: 0030 cost= 3.840119123\n",
      "Epoch: 0031 cost= 3.337361336\n",
      "Epoch: 0032 cost= 2.894100666\n",
      "Epoch: 0033 cost= 2.505114317\n",
      "Epoch: 0034 cost= 2.164258242\n",
      "Epoch: 0035 cost= 1.866372943\n",
      "Epoch: 0036 cost= 1.606686711\n",
      "Epoch: 0037 cost= 1.381101727\n",
      "Epoch: 0038 cost= 1.185169816\n",
      "Epoch: 0039 cost= 1.015982628\n",
      "Epoch: 0040 cost= 0.869616449\n",
      "Epoch: 0041 cost= 0.743969381\n",
      "Epoch: 0042 cost= 0.635890305\n",
      "Epoch: 0043 cost= 0.543084621\n",
      "Epoch: 0044 cost= 0.464360118\n",
      "Epoch: 0045 cost= 0.396990120\n",
      "Epoch: 0046 cost= 0.339811474\n",
      "Epoch: 0047 cost= 0.291279733\n",
      "Epoch: 0048 cost= 0.250425577\n",
      "Epoch: 0049 cost= 0.215114325\n",
      "Epoch: 0050 cost= 0.186415136\n",
      "Epoch: 0051 cost= 0.162065342\n",
      "Epoch: 0052 cost= 0.141552821\n",
      "Epoch: 0053 cost= 0.124987379\n",
      "Epoch: 0054 cost= 0.110339716\n",
      "Epoch: 0055 cost= 0.098408952\n",
      "Epoch: 0056 cost= 0.088709027\n",
      "Epoch: 0057 cost= 0.080549449\n",
      "Epoch: 0058 cost= 0.074070036\n",
      "Epoch: 0059 cost= 0.068336271\n",
      "Epoch: 0060 cost= 0.064166121\n",
      "Epoch: 0061 cost= 0.060982578\n",
      "Epoch: 0062 cost= 0.057361927\n",
      "Epoch: 0063 cost= 0.055645213\n",
      "Epoch: 0064 cost= 0.053107709\n",
      "Epoch: 0065 cost= 0.051429525\n",
      "Epoch: 0066 cost= 0.050289974\n",
      "Epoch: 0067 cost= 0.049598716\n",
      "Epoch: 0068 cost= 0.048603348\n",
      "Epoch: 0069 cost= 0.048074506\n",
      "Epoch: 0070 cost= 0.047707174\n",
      "Epoch: 0071 cost= 0.047652386\n",
      "Epoch: 0072 cost= 0.046968408\n",
      "Epoch: 0073 cost= 0.046697304\n",
      "Epoch: 0074 cost= 0.046625249\n",
      "Epoch: 0075 cost= 0.046117429\n",
      "Epoch: 0076 cost= 0.046002649\n",
      "Epoch: 0077 cost= 0.045338590\n",
      "Epoch: 0078 cost= 0.045537412\n",
      "Epoch: 0079 cost= 0.045204341\n",
      "Epoch: 0080 cost= 0.046074852\n",
      "Epoch: 0081 cost= 0.045272328\n",
      "Epoch: 0082 cost= 0.045559257\n",
      "Epoch: 0083 cost= 0.044696234\n",
      "Epoch: 0084 cost= 0.045963202\n",
      "Epoch: 0085 cost= 0.045357332\n",
      "Epoch: 0086 cost= 0.044879656\n",
      "Epoch: 0087 cost= 0.045350537\n",
      "Epoch: 0088 cost= 0.045203812\n",
      "Epoch: 0089 cost= 0.045138191\n",
      "Epoch: 0090 cost= 0.045024775\n",
      "Epoch: 0091 cost= 0.045031223\n",
      "Epoch: 0092 cost= 0.044488944\n",
      "Epoch: 0093 cost= 0.044657994\n",
      "Epoch: 0094 cost= 0.044624541\n",
      "Epoch: 0095 cost= 0.045406081\n",
      "Epoch: 0096 cost= 0.044919245\n",
      "Epoch: 0097 cost= 0.045000203\n",
      "Epoch: 0098 cost= 0.044927336\n",
      "Epoch: 0099 cost= 0.044126127\n",
      "Epoch: 0100 cost= 0.044483170\n",
      "Epoch: 0101 cost= 0.044576347\n",
      "Epoch: 0102 cost= 0.045107752\n",
      "Epoch: 0103 cost= 0.044854641\n",
      "Epoch: 0104 cost= 0.044507500\n",
      "Epoch: 0105 cost= 0.044640884\n",
      "Epoch: 0106 cost= 0.044613242\n",
      "Epoch: 0107 cost= 0.044568643\n",
      "Epoch: 0108 cost= 0.044482306\n",
      "Epoch: 0109 cost= 0.045006372\n",
      "Epoch: 0110 cost= 0.044837069\n",
      "Epoch: 0111 cost= 0.044965629\n",
      "Epoch: 0112 cost= 0.044421688\n",
      "Epoch: 0113 cost= 0.044738106\n",
      "Epoch: 0114 cost= 0.044364121\n",
      "Epoch: 0115 cost= 0.044733889\n",
      "Epoch: 0116 cost= 0.044599853\n",
      "Epoch: 0117 cost= 0.044503339\n",
      "Epoch: 0118 cost= 0.044038296\n",
      "Epoch: 0119 cost= 0.044557173\n",
      "Epoch: 0120 cost= 0.044509839\n",
      "Epoch: 0121 cost= 0.045111783\n",
      "Epoch: 0122 cost= 0.044532239\n",
      "Epoch: 0123 cost= 0.045121763\n",
      "Epoch: 0124 cost= 0.044154510\n",
      "Epoch: 0125 cost= 0.044670485\n",
      "Epoch: 0126 cost= 0.044074617\n",
      "Epoch: 0127 cost= 0.044548880\n",
      "Epoch: 0128 cost= 0.044516034\n",
      "Epoch: 0129 cost= 0.044933964\n",
      "Epoch: 0130 cost= 0.044179309\n",
      "Epoch: 0131 cost= 0.044751238\n",
      "Epoch: 0132 cost= 0.044514429\n",
      "Epoch: 0133 cost= 0.044396967\n",
      "Epoch: 0134 cost= 0.043706276\n",
      "Epoch: 0135 cost= 0.044366855\n",
      "Epoch: 0136 cost= 0.043937091\n",
      "Epoch: 0137 cost= 0.044246200\n",
      "Epoch: 0138 cost= 0.043912385\n",
      "Epoch: 0139 cost= 0.043824896\n",
      "Epoch: 0140 cost= 0.044128548\n",
      "Epoch: 0141 cost= 0.044125199\n",
      "Epoch: 0142 cost= 0.044497617\n",
      "Epoch: 0143 cost= 0.044384666\n",
      "Epoch: 0144 cost= 0.044464283\n",
      "Epoch: 0145 cost= 0.044009771\n",
      "Epoch: 0146 cost= 0.044182908\n",
      "Epoch: 0147 cost= 0.043793079\n",
      "Epoch: 0148 cost= 0.043999407\n",
      "Epoch: 0149 cost= 0.044501062\n",
      "Epoch: 0150 cost= 0.043869011\n",
      "Epoch: 0151 cost= 0.043990135\n",
      "Epoch: 0152 cost= 0.044065591\n",
      "Epoch: 0153 cost= 0.043794531\n",
      "Epoch: 0154 cost= 0.044059131\n",
      "Epoch: 0155 cost= 0.043716989\n",
      "Epoch: 0156 cost= 0.043952651\n",
      "Epoch: 0157 cost= 0.043763734\n",
      "Epoch: 0158 cost= 0.043464430\n",
      "Epoch: 0159 cost= 0.044129249\n",
      "Epoch: 0160 cost= 0.043753304\n",
      "Epoch: 0161 cost= 0.043724779\n",
      "Epoch: 0162 cost= 0.043927781\n",
      "Epoch: 0163 cost= 0.044414569\n",
      "Epoch: 0164 cost= 0.043720011\n",
      "Epoch: 0165 cost= 0.043441705\n",
      "Epoch: 0166 cost= 0.043759912\n",
      "Epoch: 0167 cost= 0.044070993\n",
      "Epoch: 0168 cost= 0.043877531\n",
      "Epoch: 0169 cost= 0.043443799\n",
      "Epoch: 0170 cost= 0.043585613\n",
      "Epoch: 0171 cost= 0.043838020\n",
      "Epoch: 0172 cost= 0.043299783\n",
      "Epoch: 0173 cost= 0.043872185\n",
      "Epoch: 0174 cost= 0.044038489\n",
      "Epoch: 0175 cost= 0.043488666\n",
      "Epoch: 0176 cost= 0.044036239\n",
      "Epoch: 0177 cost= 0.043922618\n",
      "Epoch: 0178 cost= 0.044058654\n",
      "Epoch: 0179 cost= 0.043883976\n",
      "Epoch: 0180 cost= 0.044192567\n",
      "Epoch: 0181 cost= 0.043642126\n",
      "Epoch: 0182 cost= 0.043588858\n",
      "Epoch: 0183 cost= 0.043113500\n",
      "Epoch: 0184 cost= 0.043517802\n",
      "Epoch: 0185 cost= 0.043743771\n",
      "Epoch: 0186 cost= 0.043429010\n",
      "Epoch: 0187 cost= 0.043810148\n",
      "Epoch: 0188 cost= 0.043359607\n",
      "Epoch: 0189 cost= 0.044223662\n",
      "Epoch: 0190 cost= 0.043929920\n",
      "Epoch: 0191 cost= 0.043186732\n",
      "Epoch: 0192 cost= 0.044298381\n",
      "Epoch: 0193 cost= 0.043752670\n",
      "Epoch: 0194 cost= 0.043749645\n",
      "Epoch: 0195 cost= 0.043393906\n",
      "Epoch: 0196 cost= 0.043844834\n",
      "Epoch: 0197 cost= 0.044344306\n",
      "Epoch: 0198 cost= 0.043669607\n",
      "Epoch: 0199 cost= 0.043096926\n",
      "Epoch: 0200 cost= 0.043642018\n",
      "Optimization Finished!\n",
      "elapsed time: 2143.149825334549\n"
     ]
    },
    {
     "data": {
      "image/png": "[encoded data removed]",
      "text/plain": [
       "<Figure size 720x144 with 20 Axes>"
      ]
     },
     "metadata": {},
     "output_type": "display_data"
    }
   ],
   "source": [
    "start_time = time.time()\n",
    "with tf.Session() as sess:\n",
    "    sess.run(init)\n",
    "    total_batch = int(mnist.train.num_examples/batch_size)\n",
    "    for epoch in range(training_epochs):\n",
    "        for i in range(total_batch):\n",
    "            batch_xs, batch_ys = mnist.train.next_batch(batch_size)\n",
    "            _, c = sess.run([optimizer, cost], feed_dict={X: batch_xs})\n",
    "        if epoch % display_step == 0:\n",
    "            print(\"Epoch:\", '%04d' % (epoch+1),\n",
    "                  \"cost=\", \"{:.9f}\".format(c))\n",
    "    print(\"Optimization Finished!\")\n",
    "    # Applying encode and decode over test set\n",
    "    encode_decode = sess.run(\n",
    "        y_pred, feed_dict={X: mnist.test.images[:10]})\n",
    "    # Compare original images with their reconstructions\n",
    "    f, a = plt.subplots(2, 10, figsize=(10, 2))\n",
    "    for i in range(10):\n",
    "        a[0][i].imshow(np.reshape(mnist.test.images[i], (28, 28)))\n",
    "        a[1][i].imshow(np.reshape(encode_decode[i], (28, 28)))\n",
    "    # Store the Decoder and Encoder Weights\n",
    "    dec = sess.run(weights['decoder_h1'])\n",
    "    enc = sess.run(weights['encoder_h1'])\n",
    "end_time = time.time()\n",
    "print('elapsed time:',end_time - start_time)"
   ]
  },
  {
   "cell_type": "code",
   "execution_count": null,
   "metadata": {},
   "outputs": [],
   "source": []
  }
 ],
 "metadata": {
  "kernelspec": {
   "display_name": "Python 3",
   "language": "python",
   "name": "python3"
  },
  "language_info": {
   "codemirror_mode": {
    "name": "ipython",
    "version": 3
   },
   "file_extension": ".py",
   "mimetype": "text/x-python",
   "name": "python",
   "nbconvert_exporter": "python",
   "pygments_lexer": "ipython3",
   "version": "3.6.5"
  }
 },
 "nbformat": 4,
 "nbformat_minor": 2
}
