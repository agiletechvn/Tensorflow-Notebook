{
 "cells": [
  {
   "cell_type": "markdown",
   "metadata": {},
   "source": [
    "# Ch `13`: Concept `02`"
   ]
  },
  {
   "cell_type": "markdown",
   "metadata": {},
   "source": [
    "Import the Required libraries"
   ]
  },
  {
   "cell_type": "code",
   "execution_count": 1,
   "metadata": {},
   "outputs": [],
   "source": [
    "import numpy as np\n",
    "import pandas as pd\n",
    "import tensorflow as tf\n",
    "import matplotlib.pyplot as plt\n",
    "%matplotlib inline"
   ]
  },
  {
   "cell_type": "markdown",
   "metadata": {},
   "source": [
    "Read the MNIST files"
   ]
  },
  {
   "cell_type": "code",
   "execution_count": 2,
   "metadata": {},
   "outputs": [
    {
     "name": "stdout",
     "output_type": "stream",
     "text": [
      "Extracting MNIST_data/train-images-idx3-ubyte.gz\n",
      "Extracting MNIST_data/train-labels-idx1-ubyte.gz\n",
      "Extracting MNIST_data/t10k-images-idx3-ubyte.gz\n",
      "Extracting MNIST_data/t10k-labels-idx1-ubyte.gz\n"
     ]
    }
   ],
   "source": [
    "from tensorflow.examples.tutorials.mnist import input_data\n",
    "mnist = input_data.read_data_sets(\"MNIST_data\", one_hot=True)"
   ]
  },
  {
   "cell_type": "markdown",
   "metadata": {},
   "source": [
    "Set up the parameters for training"
   ]
  },
  {
   "cell_type": "code",
   "execution_count": 3,
   "metadata": {},
   "outputs": [],
   "source": [
    "n_visible      = 784\n",
    "n_hidden    = 500\n",
    "display_step = 1\n",
    "num_epochs = 200\n",
    "batch_size = 256\n",
    "lr         = tf.constant(0.001, tf.float32)\n",
    "learning_rate_train = tf.constant(0.01, tf.float32)\n",
    "n_classes = 10\n",
    "training_iters = 200"
   ]
  },
  {
   "cell_type": "markdown",
   "metadata": {},
   "source": [
    "Define the tensorflow variables for weights and biases as well as placeholder for input"
   ]
  },
  {
   "cell_type": "code",
   "execution_count": 4,
   "metadata": {},
   "outputs": [],
   "source": [
    "x  = tf.placeholder(tf.float32, [None, n_visible], name=\"x\")\n",
    "y  = tf.placeholder(tf.float32, [None,10], name=\"y\")\n",
    "W  = tf.Variable(tf.random_normal([n_visible, n_hidden], 0.01), name=\"W\")\n",
    "b_h = tf.Variable(tf.zeros([1, n_hidden],  tf.float32, name=\"b_h\"))\n",
    "b_v = tf.Variable(tf.zeros([1, n_visible],  tf.float32, name=\"b_v\"))\n",
    "W_f = tf.Variable(tf.random_normal([n_hidden,n_classes], 0.01), name=\"W_f\")\n",
    "b_f = tf.Variable(tf.zeros([1, n_classes],  tf.float32, name=\"b_f\"))"
   ]
  },
  {
   "cell_type": "markdown",
   "metadata": {},
   "source": [
    "Converts the probability into discrete binary states i.e. 0 and 1"
   ]
  },
  {
   "cell_type": "code",
   "execution_count": 5,
   "metadata": {},
   "outputs": [],
   "source": [
    "def sample(probs):\n",
    "    return tf.floor(probs + tf.random_uniform(tf.shape(probs), 0, 1))"
   ]
  },
  {
   "cell_type": "markdown",
   "metadata": {},
   "source": [
    "Gibbs sampling step"
   ]
  },
  {
   "cell_type": "code",
   "execution_count": 6,
   "metadata": {},
   "outputs": [],
   "source": [
    "def gibbs_step(x_k):\n",
    "    h_k = sample(tf.sigmoid(tf.matmul(x_k, W) + b_h))\n",
    "    x_k = sample(tf.sigmoid(tf.matmul(h_k, tf.transpose(W)) + b_v))\n",
    "    return x_k"
   ]
  },
  {
   "cell_type": "markdown",
   "metadata": {},
   "source": [
    "Run multiple Gibbs Sampling steps starting from an initial point"
   ]
  },
  {
   "cell_type": "code",
   "execution_count": 7,
   "metadata": {},
   "outputs": [],
   "source": [
    "def gibbs_sample(k,x_k):\n",
    "    for i in range(k):\n",
    "        x_out = gibbs_step(x_k)\n",
    "    # Returns the gibbs sample after k iterations\n",
    "    return x_out"
   ]
  },
  {
   "cell_type": "markdown",
   "metadata": {},
   "source": [
    "Contrastive Divergence algorithm"
   ]
  },
  {
   "cell_type": "code",
   "execution_count": 9,
   "metadata": {},
   "outputs": [],
   "source": [
    "# 1. Through Gibbs sampling locate a new visible state x_sample based on the current visible state x\n",
    "# 2. Based on the new x sample a new h as h_sample\n",
    "x_s = gibbs_sample(2,x)\n",
    "h_s = sample(tf.sigmoid(tf.matmul(x_s, W) + b_h))\n",
    "\n",
    "# Sample hidden states based given visible states\n",
    "h = sample(tf.sigmoid(tf.matmul(x, W) + b_h))\n",
    "\n",
    "# Sample visible states based given hidden states\n",
    "x_ = sample(tf.sigmoid(tf.matmul(h, tf.transpose(W)) + b_v))\n",
    "\n",
    "# The weight updated based on gradient descent\n",
    "size_batch = tf.cast(tf.shape(x)[0], tf.float32)\n",
    "W_add  = tf.multiply(lr/size_batch, tf.subtract(tf.matmul(tf.transpose(x), h), tf.matmul(tf.\n",
    "transpose(x_s), h_s)))\n",
    "bv_add = tf.multiply(lr/size_batch, tf.reduce_sum(tf.subtract(x, x_s), 0, True))\n",
    "bh_add = tf.multiply(lr/size_batch, tf.reduce_sum(tf.subtract(h, h_s), 0, True))\n",
    "updt = [W.assign_add(W_add), b_v.assign_add(bv_add), b_h.assign_add(bh_add)]\n",
    "\n",
    "###############################################################\n",
    "## Ops for the Classification Network\n",
    "###############################################################\n",
    "h_out = tf.sigmoid(tf.matmul(x, W) + b_h)\n",
    "logits = tf.matmul(h_out,W_f) + b_f\n",
    "prob = tf.nn.softmax(logits)\n",
    "cost = tf.reduce_mean(tf.nn.softmax_cross_entropy_with_logits_v2(logits=logits, labels=y))\n",
    "optimizer = tf.train.AdamOptimizer(learning_rate=learning_rate_train).minimize(cost)\n",
    "correct_pred = tf.equal(tf.argmax(logits,1), tf.argmax(y, 1))\n",
    "accuracy = tf.reduce_mean(tf.cast(correct_pred, tf.float32))"
   ]
  },
  {
   "cell_type": "markdown",
   "metadata": {},
   "source": [
    "Ops for the hidden unit activation"
   ]
  },
  {
   "cell_type": "code",
   "execution_count": 11,
   "metadata": {},
   "outputs": [
    {
     "name": "stdout",
     "output_type": "stream",
     "text": [
      "Epoch: 0001\n",
      "Epoch: 0002\n",
      "Epoch: 0003\n",
      "Epoch: 0004\n",
      "Epoch: 0005\n",
      "Epoch: 0019\n",
      "Epoch: 0020\n",
      "Epoch: 0021\n",
      "Epoch: 0022\n",
      "Epoch: 0023\n",
      "Epoch: 0024\n",
      "Epoch: 0025\n",
      "Epoch: 0026\n",
      "Epoch: 0027\n",
      "Epoch: 0028\n",
      "Epoch: 0029\n",
      "Epoch: 0030\n",
      "Epoch: 0031\n",
      "Epoch: 0032\n",
      "Epoch: 0033\n",
      "Epoch: 0034\n",
      "Epoch: 0035\n",
      "Epoch: 0036\n",
      "Epoch: 0037\n",
      "Epoch: 0038\n",
      "Epoch: 0039\n",
      "Epoch: 0040\n",
      "Epoch: 0041\n",
      "Epoch: 0042\n",
      "Epoch: 0043\n",
      "Epoch: 0044\n",
      "Epoch: 0045\n",
      "Epoch: 0046\n",
      "Epoch: 0047\n",
      "Epoch: 0048\n",
      "Epoch: 0049\n",
      "Epoch: 0050\n",
      "Epoch: 0051\n",
      "Epoch: 0052\n",
      "Epoch: 0053\n",
      "Epoch: 0054\n",
      "Epoch: 0055\n",
      "Epoch: 0056\n",
      "Epoch: 0057\n",
      "Epoch: 0058\n",
      "Epoch: 0059\n",
      "Epoch: 0060\n",
      "Epoch: 0061\n",
      "Epoch: 0062\n",
      "Epoch: 0063\n",
      "Epoch: 0064\n",
      "Epoch: 0065\n",
      "Epoch: 0066\n",
      "Epoch: 0067\n",
      "Epoch: 0068\n",
      "Epoch: 0069\n",
      "Epoch: 0070\n",
      "Epoch: 0071\n",
      "Epoch: 0072\n",
      "Epoch: 0073\n",
      "Epoch: 0074\n",
      "Epoch: 0075\n",
      "Epoch: 0076\n",
      "Epoch: 0077\n",
      "Epoch: 0078\n",
      "Epoch: 0079\n",
      "Epoch: 0080\n",
      "Epoch: 0081\n",
      "Epoch: 0082\n",
      "Epoch: 0083\n",
      "Epoch: 0084\n",
      "Epoch: 0085\n",
      "Epoch: 0086\n",
      "Epoch: 0087\n",
      "Epoch: 0088\n",
      "Epoch: 0089\n",
      "Epoch: 0090\n",
      "Epoch: 0091\n",
      "Epoch: 0092\n",
      "Epoch: 0093\n",
      "Epoch: 0094\n",
      "Epoch: 0095\n",
      "Epoch: 0096\n",
      "Epoch: 0097\n",
      "Epoch: 0098\n",
      "Epoch: 0099\n",
      "Epoch: 0100\n",
      "Epoch: 0101\n",
      "Epoch: 0102\n",
      "Epoch: 0103\n",
      "Epoch: 0104\n",
      "Epoch: 0105\n",
      "Epoch: 0106\n",
      "Epoch: 0107\n",
      "Epoch: 0108\n",
      "Epoch: 0109\n",
      "Epoch: 0110\n",
      "Epoch: 0111\n",
      "Epoch: 0112\n",
      "Epoch: 0113\n",
      "Epoch: 0114\n",
      "Epoch: 0115\n",
      "Epoch: 0116\n",
      "Epoch: 0117\n",
      "Epoch: 0118\n",
      "Epoch: 0119\n",
      "Epoch: 0120\n",
      "Epoch: 0121\n",
      "Epoch: 0122\n",
      "Epoch: 0123\n",
      "Epoch: 0124\n",
      "Epoch: 0125\n",
      "Epoch: 0126\n",
      "Epoch: 0127\n",
      "Epoch: 0128\n",
      "Epoch: 0129\n",
      "Epoch: 0130\n",
      "Epoch: 0131\n",
      "Epoch: 0132\n",
      "Epoch: 0133\n",
      "Epoch: 0134\n",
      "Epoch: 0135\n",
      "Epoch: 0136\n",
      "Epoch: 0137\n",
      "Epoch: 0138\n",
      "Epoch: 0139\n",
      "Epoch: 0140\n",
      "Epoch: 0141\n",
      "Epoch: 0142\n",
      "Epoch: 0143\n",
      "Epoch: 0144\n",
      "Epoch: 0145\n",
      "Epoch: 0146\n",
      "Epoch: 0147\n",
      "Epoch: 0148\n",
      "Epoch: 0149\n",
      "Epoch: 0150\n",
      "Epoch: 0151\n",
      "Epoch: 0152\n",
      "Epoch: 0153\n",
      "Epoch: 0154\n",
      "Epoch: 0155\n",
      "Epoch: 0156\n",
      "Epoch: 0157\n",
      "Epoch: 0158\n",
      "Epoch: 0159\n",
      "Epoch: 0160\n",
      "Epoch: 0161\n",
      "Epoch: 0162\n",
      "Epoch: 0163\n",
      "Epoch: 0164\n",
      "Epoch: 0165\n",
      "Epoch: 0166\n",
      "Epoch: 0167\n",
      "Epoch: 0168\n",
      "Epoch: 0169\n",
      "Epoch: 0170\n",
      "Epoch: 0171\n",
      "Epoch: 0172\n",
      "Epoch: 0173\n",
      "Epoch: 0174\n",
      "Epoch: 0175\n",
      "Epoch: 0176\n",
      "Epoch: 0177\n",
      "Epoch: 0178\n",
      "Epoch: 0179\n",
      "Epoch: 0180\n",
      "Epoch: 0181\n",
      "Epoch: 0182\n",
      "Epoch: 0183\n",
      "Epoch: 0184\n",
      "Epoch: 0185\n",
      "Epoch: 0186\n",
      "Epoch: 0187\n",
      "Epoch: 0188\n",
      "Epoch: 0189\n",
      "Epoch: 0190\n",
      "Epoch: 0191\n",
      "Epoch: 0192\n",
      "Epoch: 0193\n",
      "Epoch: 0194\n",
      "Epoch: 0195\n",
      "Epoch: 0196\n",
      "Epoch: 0197\n",
      "Epoch: 0198\n",
      "Epoch: 0199\n",
      "Epoch: 0200\n",
      "RBM training Completed !\n",
      "7\n",
      "2\n",
      "1\n",
      "0\n",
      "4\n",
      "1\n",
      "4\n",
      "9\n",
      "5\n",
      "9\n",
      "0\n",
      "6\n",
      "9\n",
      "0\n",
      "1\n",
      "5\n",
      "9\n",
      "7\n",
      "3\n",
      "4\n",
      "Iter 0, Minibatch Loss= 8.618534, Training Accuracy= 0.14062\n",
      "Iter 10, Minibatch Loss= 1.738043, Training Accuracy= 0.62891\n",
      "Iter 20, Minibatch Loss= 1.179227, Training Accuracy= 0.77734\n",
      "Iter 30, Minibatch Loss= 0.616312, Training Accuracy= 0.89844\n",
      "Iter 40, Minibatch Loss= 0.975288, Training Accuracy= 0.84375\n",
      "Iter 50, Minibatch Loss= 0.621809, Training Accuracy= 0.87500\n",
      "Iter 60, Minibatch Loss= 0.328326, Training Accuracy= 0.93750\n",
      "Iter 70, Minibatch Loss= 0.369765, Training Accuracy= 0.91797\n",
      "Iter 80, Minibatch Loss= 0.500979, Training Accuracy= 0.88281\n",
      "Iter 90, Minibatch Loss= 0.498398, Training Accuracy= 0.88672\n",
      "Iter 100, Minibatch Loss= 0.327247, Training Accuracy= 0.92969\n",
      "Iter 110, Minibatch Loss= 0.499682, Training Accuracy= 0.89453\n",
      "Iter 120, Minibatch Loss= 0.432417, Training Accuracy= 0.91016\n",
      "Iter 130, Minibatch Loss= 0.327629, Training Accuracy= 0.92188\n",
      "Iter 140, Minibatch Loss= 0.205669, Training Accuracy= 0.93750\n",
      "Iter 150, Minibatch Loss= 0.410514, Training Accuracy= 0.92188\n",
      "Iter 160, Minibatch Loss= 0.254725, Training Accuracy= 0.94531\n",
      "Iter 170, Minibatch Loss= 0.379589, Training Accuracy= 0.91406\n",
      "Iter 180, Minibatch Loss= 0.387619, Training Accuracy= 0.93359\n",
      "Iter 190, Minibatch Loss= 0.223977, Training Accuracy= 0.95703\n",
      "Optimization Finished!\n",
      "Testing Accuracy: 0.953125\n"
     ]
    },
    {
     "data": {
      "image/png": "[encoded data removed]",
      "text/plain": [
       "<Figure size 432x288 with 20 Axes>"
      ]
     },
     "metadata": {},
     "output_type": "display_data"
    },
    {
     "data": {
      "image/png": "[encoded data removed]",
      "text/plain": [
       "<Figure size 432x288 with 20 Axes>"
      ]
     },
     "metadata": {},
     "output_type": "display_data"
    }
   ],
   "source": [
    "# TensorFlow graph execution\n",
    "with tf.Session() as sess:\n",
    "    # Initialize the variables of the Model\n",
    "    init = tf.global_variables_initializer()\n",
    "    sess.run(init)\n",
    "    total_batch = int(mnist.train.num_examples/batch_size)\n",
    "    # Start the training\n",
    "    for epoch in range(num_epochs):\n",
    "        # Loop over all batches\n",
    "        for i in range(total_batch):\n",
    "            batch_xs, batch_ys = mnist.train.next_batch(batch_size)\n",
    "            # Run the weight update\n",
    "            batch_xs = (batch_xs > 0)*1\n",
    "            _ = sess.run([updt], feed_dict={x:batch_xs})\n",
    "        # Display the running step\n",
    "        if epoch % display_step == 0:\n",
    "            print(\"Epoch:\", '%04d' % (epoch+1))\n",
    "    print(\"RBM training Completed !\")\n",
    "    out = sess.run(h,feed_dict={x:(mnist.test.images[:20]> 0)*1})\n",
    "    label = mnist.test.labels[:20]\n",
    "    \n",
    "    plt.figure(1)\n",
    "    for k in range(20):\n",
    "        plt.subplot(4, 5, k+1)\n",
    "        image = (mnist.test.images[k]> 0)*1\n",
    "        image = np.reshape(image,(28,28))\n",
    "        plt.imshow(image,cmap='gray')\n",
    "        \n",
    "    plt.figure(2)\n",
    "    \n",
    "    for k in range(20):\n",
    "        plt.subplot(4, 5, k+1)\n",
    "        image = sess.run(x_,feed_dict={h:np.reshape(out[k],(-1,n_hidden))})\n",
    "        image = np.reshape(image,(28,28))\n",
    "        plt.imshow(image,cmap='gray')\n",
    "        print(np.argmax(label[k]))\n",
    "        \n",
    "    ####################################################\n",
    "    ### Invoke the Classification Network training now\n",
    "    ####################################################\n",
    "    for i in range(training_iters):\n",
    "        batch_x, batch_y = mnist.train.next_batch(batch_size)\n",
    "        # Run optimization op (backprop)\n",
    "        sess.run(optimizer, feed_dict={x: batch_x, y: batch_y})\n",
    "        if i % 10 == 0:\n",
    "            # Calculate batch loss and accuracy\n",
    "            loss, acc = sess.run([cost, accuracy], feed_dict={x: batch_x, y: batch_y})\n",
    "            print(\"Iter \" + str(i) + \", Minibatch Loss= \" + \\\n",
    "                   \"{:.6f}\".format(loss) + \", Training Accuracy= \" + \\\n",
    "                   \"{:.5f}\".format(acc))\n",
    "            \n",
    "    print(\"Optimization Finished!\")\n",
    "    # Calculate accuracy for 256 mnist test images\n",
    "    print(\"Testing Accuracy:\", \\\n",
    "        sess.run(accuracy, feed_dict={x: mnist.test.images[:256],\n",
    "                                      y: mnist.test.labels[:256]}))\n",
    "    sess.close()"
   ]
  },
  {
   "cell_type": "code",
   "execution_count": null,
   "metadata": {},
   "outputs": [],
   "source": []
  }
 ],
 "metadata": {
  "kernelspec": {
   "display_name": "Python 3",
   "language": "python",
   "name": "python3"
  },
  "language_info": {
   "codemirror_mode": {
    "name": "ipython",
    "version": 3
   },
   "file_extension": ".py",
   "mimetype": "text/x-python",
   "name": "python",
   "nbconvert_exporter": "python",
   "pygments_lexer": "ipython3",
   "version": "3.6.5"
  }
 },
 "nbformat": 4,
 "nbformat_minor": 2
}
