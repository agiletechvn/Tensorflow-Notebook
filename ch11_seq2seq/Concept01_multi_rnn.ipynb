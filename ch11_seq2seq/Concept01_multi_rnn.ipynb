{
 "cells": [
  {
   "cell_type": "markdown",
   "metadata": {},
   "source": [
    "# Ch `11`: Concept `01`\n",
    "\n",
    "## Multi RNN"
   ]
  },
  {
   "cell_type": "markdown",
   "metadata": {},
   "source": [
    "All we need is TensorFlow:"
   ]
  },
  {
   "cell_type": "code",
   "execution_count": 1,
   "metadata": {},
   "outputs": [],
   "source": [
    "import tensorflow as tf"
   ]
  },
  {
   "cell_type": "markdown",
   "metadata": {},
   "source": [
    "First, define the constants. \n",
    "\n",
    "Let's say we're dealing with 1-dimensional vectors, and a maximum sequence size of 3."
   ]
  },
  {
   "cell_type": "code",
   "execution_count": 2,
   "metadata": {},
   "outputs": [],
   "source": [
    "input_dim = 1\n",
    "seq_size = 3"
   ]
  },
  {
   "cell_type": "markdown",
   "metadata": {},
   "source": [
    "Next up, define the placeholder(s). \n",
    "\n",
    "We only need one for this simple example: the input placeholder."
   ]
  },
  {
   "cell_type": "code",
   "execution_count": 3,
   "metadata": {},
   "outputs": [],
   "source": [
    "input_placeholder = tf.placeholder(dtype=tf.float32, shape=[None, seq_size, input_dim])"
   ]
  },
  {
   "cell_type": "markdown",
   "metadata": {},
   "source": [
    "Now let's make a helper function to create LSTM cells"
   ]
  },
  {
   "cell_type": "code",
   "execution_count": 4,
   "metadata": {},
   "outputs": [],
   "source": [
    "def make_cell(state_dim):\n",
    "    return tf.contrib.rnn.LSTMCell(state_dim)"
   ]
  },
  {
   "cell_type": "markdown",
   "metadata": {},
   "source": [
    "Call the function and extract the cell outputs."
   ]
  },
  {
   "cell_type": "code",
   "execution_count": 5,
   "metadata": {},
   "outputs": [],
   "source": [
    "with tf.variable_scope(\"first_cell\") as scope:\n",
    "    cell = make_cell(state_dim=10)\n",
    "    outputs, states = tf.nn.dynamic_rnn(cell, input_placeholder, dtype=tf.float32)"
   ]
  },
  {
   "cell_type": "markdown",
   "metadata": {},
   "source": [
    "You know what? We can just keep stacking cells on top of each other. In a new variable scope, you can pipe the output of the previous cell to the input of the new cell. Check it out:"
   ]
  },
  {
   "cell_type": "code",
   "execution_count": 6,
   "metadata": {},
   "outputs": [],
   "source": [
    "with tf.variable_scope(\"second_cell\") as scope:\n",
    "    cell2 = make_cell(state_dim=10)\n",
    "    outputs2, states2 = tf.nn.dynamic_rnn(cell2, outputs, dtype=tf.float32)"
   ]
  },
  {
   "cell_type": "markdown",
   "metadata": {},
   "source": [
    "What if we wanted 5 layers of RNNs? \n",
    "\n",
    "There's a useful shortcut that the TensorFlow library supplies, called `MultiRNNCell`. Here's a helper function to use it:"
   ]
  },
  {
   "cell_type": "code",
   "execution_count": 7,
   "metadata": {},
   "outputs": [],
   "source": [
    "def make_multi_cell(state_dim, num_layers):\n",
    "    cells = [make_cell(state_dim) for _ in range(num_layers)]\n",
    "    return tf.contrib.rnn.MultiRNNCell(cells)"
   ]
  },
  {
   "cell_type": "markdown",
   "metadata": {},
   "source": [
    "Here's the helper function in action:"
   ]
  },
  {
   "cell_type": "code",
   "execution_count": 8,
   "metadata": {},
   "outputs": [],
   "source": [
    "multi_cell = make_multi_cell(state_dim=10, num_layers=5)\n",
    "outputs5, states5 = tf.nn.dynamic_rnn(multi_cell, input_placeholder, dtype=tf.float32)"
   ]
  },
  {
   "cell_type": "markdown",
   "metadata": {},
   "source": [
    "Before starting a session, let's prepare some simple input to the network."
   ]
  },
  {
   "cell_type": "code",
   "execution_count": 9,
   "metadata": {},
   "outputs": [],
   "source": [
    "input_seq = [[1], [2], [3]]\n",
    "\n"
   ]
  },
  {
   "cell_type": "markdown",
   "metadata": {},
   "source": [
    "Start the session, and initialize variables."
   ]
  },
  {
   "cell_type": "code",
   "execution_count": 10,
   "metadata": {},
   "outputs": [],
   "source": [
    "init_op = tf.global_variables_initializer()\n",
    "\n",
    "sess = tf.InteractiveSession()\n",
    "sess.run(init_op)"
   ]
  },
  {
   "cell_type": "markdown",
   "metadata": {},
   "source": [
    "We can run the outputs to verify that the code is sound."
   ]
  },
  {
   "cell_type": "code",
   "execution_count": 11,
   "metadata": {},
   "outputs": [
    {
     "name": "stdout",
     "output_type": "stream",
     "text": [
      "[[[-0.0595012   0.01239615 -0.02821737  0.05782973  0.02280153\n",
      "   -0.00853369 -0.03575901  0.03789692  0.07049078  0.00917231]\n",
      "  [-0.18443729  0.01474649 -0.07368745  0.14000139  0.06114158\n",
      "   -0.01630135 -0.08158955  0.10733734  0.20064893  0.04016431]\n",
      "  [-0.35123432 -0.01229131 -0.12513027  0.21246517  0.10408669\n",
      "   -0.02050561 -0.12086178  0.1876209   0.33600038  0.10451161]]]\n",
      "[[[ 0.00078744  0.00271808  0.0006809  -0.00047728 -0.01430413\n",
      "    0.00367989  0.00519382 -0.00270487  0.00318851 -0.00099343]\n",
      "  [ 0.00486692  0.00895152 -0.00137144  0.00023559 -0.0481291\n",
      "    0.01305772  0.01971616 -0.00829132  0.01299118 -0.00442055]\n",
      "  [ 0.0153      0.01894589 -0.01083777  0.00376368 -0.09608416\n",
      "    0.02765664  0.04316777 -0.01503063  0.02809603 -0.01359858]]]\n",
      "[[[-1.2273813e-05 -6.2976842e-06 -8.3985988e-06  6.2900504e-06\n",
      "    4.8350380e-06  1.6433044e-06  9.5611695e-06 -8.5426354e-06\n",
      "   -5.5399514e-06  9.4979523e-06]\n",
      "  [-7.2101131e-05 -2.9865219e-05 -5.7951776e-05  3.7555055e-05\n",
      "    1.8949080e-05  7.0637184e-06  5.5222616e-05 -5.1828243e-05\n",
      "   -2.8974648e-05  5.0112951e-05]\n",
      "  [-2.3518967e-04 -7.7040699e-05 -2.1338924e-04  1.2478491e-04\n",
      "    3.6321057e-05  2.3536197e-05  1.8066035e-04 -1.7935873e-04\n",
      "   -8.8371315e-05  1.4869920e-04]]]\n"
     ]
    }
   ],
   "source": [
    "outputs_val, outputs2_val, outputs5_val = sess.run([outputs, outputs2, outputs5], \n",
    "                                                   feed_dict={input_placeholder: [input_seq]})\n",
    "print(outputs_val)\n",
    "print(outputs2_val)\n",
    "print(outputs5_val)"
   ]
  },
  {
   "cell_type": "code",
   "execution_count": null,
   "metadata": {},
   "outputs": [],
   "source": []
  }
 ],
 "metadata": {
  "kernelspec": {
   "display_name": "Python 3",
   "language": "python",
   "name": "python3"
  },
  "language_info": {
   "codemirror_mode": {
    "name": "ipython",
    "version": 3
   },
   "file_extension": ".py",
   "mimetype": "text/x-python",
   "name": "python",
   "nbconvert_exporter": "python",
   "pygments_lexer": "ipython3",
   "version": "3.6.5"
  }
 },
 "nbformat": 4,
 "nbformat_minor": 1
}
