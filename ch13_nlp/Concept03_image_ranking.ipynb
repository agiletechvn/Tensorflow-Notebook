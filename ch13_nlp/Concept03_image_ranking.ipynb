{
 "cells": [
  {
   "cell_type": "markdown",
   "metadata": {},
   "source": [
    "# Ch `12`: Concept `03`"
   ]
  },
  {
   "cell_type": "markdown",
   "metadata": {},
   "source": [
    "### Ranking images"
   ]
  },
  {
   "cell_type": "markdown",
   "metadata": {},
   "source": [
    "Download cloth folding dataset from https://data.mendeley.com/datasets/c7y3hcrj7z/1. \n",
    "\n",
    "Extract the zip. Keep note of where you extract it; we'll call that location `DATASET_DIR`."
   ]
  },
  {
   "cell_type": "code",
   "execution_count": 1,
   "metadata": {},
   "outputs": [
    {
     "name": "stdout",
     "output_type": "stream",
     "text": [
      "Images of starting state (45, 224, 224, 3)\n",
      "Images of ending state (45, 224, 224, 3)\n"
     ]
    }
   ],
   "source": [
    "import tensorflow as tf\n",
    "import numpy as np\n",
    "from vgg16 import vgg16\n",
    "import glob, os\n",
    "from scipy.misc import imread, imresize\n",
    "\n",
    "DATASET_DIR = os.path.join(os.path.expanduser('~'), 'res', 'cloth_folding_rgb_vids')\n",
    "NUM_VIDS = 45\n",
    "\n",
    "def get_img_pair(video_id):\n",
    "    img_files = sorted(glob.glob(os.path.join(DATASET_DIR, video_id, '*.png')))\n",
    "    start_img = img_files[0]\n",
    "    end_img = img_files[-1]\n",
    "    pair = []\n",
    "    for image_file in [start_img, end_img]:\n",
    "        img_original = imread(image_file)\n",
    "        img_resized = imresize(img_original, (224, 224))\n",
    "        pair.append(img_resized)\n",
    "    return tuple(pair)\n",
    "\n",
    "start_imgs = []\n",
    "end_imgs= []\n",
    "for vid_id in range(1, NUM_VIDS + 1):\n",
    "    start_img, end_img = get_img_pair(str(vid_id))\n",
    "    start_imgs.append(start_img)\n",
    "    end_imgs.append(end_img)\n",
    "print('Images of starting state {}'.format(np.shape(start_imgs)))\n",
    "print('Images of ending state {}'.format(np.shape(end_imgs)))"
   ]
  },
  {
   "cell_type": "code",
   "execution_count": 2,
   "metadata": {
    "collapsed": true
   },
   "outputs": [],
   "source": [
    "imgs_plc = tf.placeholder(tf.float32, [None, 224, 224, 3])"
   ]
  },
  {
   "cell_type": "code",
   "execution_count": 3,
   "metadata": {
    "collapsed": true
   },
   "outputs": [],
   "source": [
    "n_features = 4096\n",
    "n_hidden = 10 # n_features * 2\n",
    "\n",
    "with tf.name_scope(\"input\"):\n",
    "    x1 = tf.placeholder(tf.float32, [None, n_features], name=\"x1\")\n",
    "    x2 = tf.placeholder(tf.float32, [None, n_features], name=\"x2\")\n",
    "    dropout_keep_prob = tf.placeholder(tf.float32, name='dropout_prob')\n",
    "\n",
    "\n",
    "with tf.name_scope(\"hidden_layer\"):\n",
    "    with tf.name_scope(\"weights\"):\n",
    "        w1 = tf.Variable(tf.random_normal([n_features, n_hidden]), name=\"w1\")\n",
    "        tf.summary.histogram(\"w1\", w1)\n",
    "        b1 = tf.Variable(tf.random_normal([n_hidden]), name=\"b1\")\n",
    "        tf.summary.histogram(\"b1\", b1)\n",
    " \n",
    "    with tf.name_scope(\"output\"):\n",
    "        h1 = tf.nn.dropout(tf.nn.relu(tf.matmul(x1,w1) + b1), keep_prob=dropout_keep_prob)\n",
    "        tf.summary.histogram(\"h1\", h1)\n",
    "        h2 = tf.nn.dropout(tf.nn.relu(tf.matmul(x2, w1) + b1), keep_prob=dropout_keep_prob)\n",
    "        tf.summary.histogram(\"h2\", h2)\n",
    " \n",
    "\n",
    "with tf.name_scope(\"output_layer\"):\n",
    "    with tf.name_scope(\"weights\"):\n",
    "        w2 = tf.Variable(tf.random_normal([n_hidden, 1]), name=\"w2\")\n",
    "        tf.summary.histogram(\"w2\", w2)\n",
    "        b2 = tf.Variable(tf.random_normal([1]), name=\"b2\")\n",
    "        tf.summary.histogram(\"b2\", b2)\n",
    " \n",
    "    with tf.name_scope(\"output\"):\n",
    "        s1 = tf.matmul(h1, w2) + b2\n",
    "        s2 = tf.matmul(h2, w2) + b2\n",
    " \n",
    " \n",
    "#根据输出节点计算概率值\n",
    "with tf.name_scope(\"loss\"):\n",
    "    s12 = s1 - s2\n",
    "    s12_flat = tf.reshape(s12, [-1])\n",
    "    \n",
    "    pred = tf.sigmoid(s12)\n",
    "    lable_p = tf.sigmoid(-tf.ones_like(s12))\n",
    "    \n",
    "    cross_entropy = tf.nn.softmax_cross_entropy_with_logits(labels=tf.zeros_like(s12_flat), logits=s12_flat + 1)\n",
    "    \n",
    "    loss = tf.reduce_mean(cross_entropy)\n",
    "    tf.summary.scalar(\"loss\", loss)\n",
    " \n",
    "with tf.name_scope(\"train_op\"):\n",
    "    train_op = tf.train.AdamOptimizer(0.001).minimize(loss)"
   ]
  },
  {
   "cell_type": "code",
   "execution_count": 4,
   "metadata": {
    "collapsed": true
   },
   "outputs": [],
   "source": [
    "sess = tf.InteractiveSession()\n",
    "sess.run(tf.global_variables_initializer())"
   ]
  },
  {
   "cell_type": "code",
   "execution_count": 5,
   "metadata": {},
   "outputs": [
    {
     "name": "stdout",
     "output_type": "stream",
     "text": [
      "Loading model...\n",
      "0 conv1_1_W (3, 3, 3, 64)\n",
      "1 conv1_1_b (64,)\n",
      "2 conv1_2_W (3, 3, 64, 64)\n",
      "3 conv1_2_b (64,)\n",
      "4 conv2_1_W (3, 3, 64, 128)\n",
      "5 conv2_1_b (128,)\n",
      "6 conv2_2_W (3, 3, 128, 128)\n",
      "7 conv2_2_b (128,)\n",
      "8 conv3_1_W (3, 3, 128, 256)\n",
      "9 conv3_1_b (256,)\n",
      "10 conv3_2_W (3, 3, 256, 256)\n",
      "11 conv3_2_b (256,)\n",
      "12 conv3_3_W (3, 3, 256, 256)\n",
      "13 conv3_3_b (256,)\n",
      "14 conv4_1_W (3, 3, 256, 512)\n",
      "15 conv4_1_b (512,)\n",
      "16 conv4_2_W (3, 3, 512, 512)\n",
      "17 conv4_2_b (512,)\n",
      "18 conv4_3_W (3, 3, 512, 512)\n",
      "19 conv4_3_b (512,)\n",
      "20 conv5_1_W (3, 3, 512, 512)\n",
      "21 conv5_1_b (512,)\n",
      "22 conv5_2_W (3, 3, 512, 512)\n",
      "23 conv5_2_b (512,)\n",
      "24 conv5_3_W (3, 3, 512, 512)\n",
      "25 conv5_3_b (512,)\n",
      "26 fc6_W (25088, 4096)\n",
      "27 fc6_b (4096,)\n",
      "28 fc7_W (4096, 4096)\n",
      "29 fc7_b (4096,)\n",
      "30 fc8_W (4096, 1000)\n",
      "31 fc8_b (1000,)\n",
      "Done loading!\n"
     ]
    }
   ],
   "source": [
    "print('Loading model...')\n",
    "vgg = vgg16(imgs_plc, 'vgg16_weights.npz', sess)\n",
    "print('Done loading!')"
   ]
  },
  {
   "cell_type": "code",
   "execution_count": 6,
   "metadata": {},
   "outputs": [
    {
     "name": "stdout",
     "output_type": "stream",
     "text": [
      "Train start imgs (33, 4096)\n",
      "Train end imgs (33, 4096)\n",
      "Test start imgs (12, 4096)\n",
      "Test end imgs (12, 4096)\n"
     ]
    }
   ],
   "source": [
    "start_imgs_embedded = sess.run(vgg.fc1, feed_dict={vgg.imgs: start_imgs})\n",
    "end_imgs_embedded = sess.run(vgg.fc1, feed_dict={vgg.imgs: end_imgs})\n",
    "\n",
    "idxs = np.random.choice(NUM_VIDS, NUM_VIDS, replace=False)\n",
    "train_idxs = idxs[0:int(NUM_VIDS * 0.75)]\n",
    "test_idxs = idxs[int(NUM_VIDS * 0.75):]\n",
    "\n",
    "train_start_imgs = start_imgs_embedded[train_idxs]\n",
    "train_end_imgs = end_imgs_embedded[train_idxs]\n",
    "test_start_imgs = start_imgs_embedded[test_idxs]\n",
    "test_end_imgs = end_imgs_embedded[test_idxs]\n",
    "\n",
    "print('Train start imgs {}'.format(np.shape(train_start_imgs)))\n",
    "print('Train end imgs {}'.format(np.shape(train_end_imgs)))\n",
    "print('Test start imgs {}'.format(np.shape(test_start_imgs)))\n",
    "print('Test end imgs {}'.format(np.shape(test_end_imgs)))"
   ]
  },
  {
   "cell_type": "code",
   "execution_count": 7,
   "metadata": {
    "scrolled": true
   },
   "outputs": [
    {
     "name": "stdout",
     "output_type": "stream",
     "text": [
      "0. 0.0\n",
      "Accuracy: 41.66666666666667%\n",
      "1. 0.0\n",
      "Accuracy: 75.0%\n",
      "2. 0.0\n",
      "Accuracy: 75.0%\n",
      "3. 0.0\n",
      "Accuracy: 91.66666666666666%\n",
      "4. 0.0\n",
      "Accuracy: 100.0%\n",
      "5. 0.0\n",
      "Accuracy: 100.0%\n",
      "6. 0.0\n",
      "Accuracy: 100.0%\n",
      "7. 0.0\n",
      "Accuracy: 100.0%\n",
      "8. 0.0\n",
      "Accuracy: 100.0%\n",
      "9. 0.0\n",
      "Accuracy: 100.0%\n",
      "10. 0.0\n",
      "Accuracy: 100.0%\n",
      "11. 0.0\n",
      "Accuracy: 100.0%\n",
      "12. 0.0\n",
      "Accuracy: 100.0%\n",
      "13. 0.0\n",
      "Accuracy: 100.0%\n",
      "14. 0.0\n",
      "Accuracy: 100.0%\n",
      "15. 0.0\n",
      "Accuracy: 100.0%\n",
      "16. 0.0\n",
      "Accuracy: 100.0%\n",
      "17. 0.0\n",
      "Accuracy: 100.0%\n",
      "18. 0.0\n",
      "Accuracy: 100.0%\n",
      "19. 0.0\n",
      "Accuracy: 100.0%\n",
      "20. 0.0\n",
      "Accuracy: 100.0%\n",
      "21. 0.0\n",
      "Accuracy: 100.0%\n",
      "22. 0.0\n",
      "Accuracy: 100.0%\n",
      "23. 0.0\n",
      "Accuracy: 100.0%\n",
      "24. 0.0\n",
      "Accuracy: 100.0%\n",
      "25. 0.0\n",
      "Accuracy: 100.0%\n",
      "26. 0.0\n",
      "Accuracy: 100.0%\n",
      "27. 0.0\n",
      "Accuracy: 100.0%\n",
      "28. 0.0\n",
      "Accuracy: 100.0%\n",
      "29. 0.0\n",
      "Accuracy: 100.0%\n",
      "30. 0.0\n",
      "Accuracy: 100.0%\n",
      "31. 0.0\n",
      "Accuracy: 100.0%\n",
      "32. 0.0\n",
      "Accuracy: 100.0%\n",
      "33. 0.0\n",
      "Accuracy: 100.0%\n",
      "34. 0.0\n",
      "Accuracy: 100.0%\n",
      "35. 0.0\n",
      "Accuracy: 100.0%\n",
      "36. 0.0\n",
      "Accuracy: 100.0%\n",
      "37. 0.0\n",
      "Accuracy: 100.0%\n",
      "38. 0.0\n",
      "Accuracy: 100.0%\n",
      "39. 0.0\n",
      "Accuracy: 100.0%\n",
      "40. 0.0\n",
      "Accuracy: 100.0%\n",
      "41. 0.0\n",
      "Accuracy: 100.0%\n",
      "42. 0.0\n",
      "Accuracy: 100.0%\n",
      "43. 0.0\n",
      "Accuracy: 100.0%\n",
      "44. 0.0\n",
      "Accuracy: 100.0%\n",
      "45. 0.0\n",
      "Accuracy: 100.0%\n",
      "46. 0.0\n",
      "Accuracy: 100.0%\n",
      "47. 0.0\n",
      "Accuracy: 100.0%\n",
      "48. 0.0\n",
      "Accuracy: 100.0%\n",
      "49. 0.0\n",
      "Accuracy: 100.0%\n",
      "50. 0.0\n",
      "Accuracy: 100.0%\n",
      "51. 0.0\n",
      "Accuracy: 100.0%\n",
      "52. 0.0\n",
      "Accuracy: 100.0%\n",
      "53. 0.0\n",
      "Accuracy: 100.0%\n",
      "54. 0.0\n",
      "Accuracy: 100.0%\n",
      "55. 0.0\n",
      "Accuracy: 100.0%\n",
      "56. 0.0\n",
      "Accuracy: 100.0%\n",
      "57. 0.0\n",
      "Accuracy: 100.0%\n",
      "58. 0.0\n",
      "Accuracy: 100.0%\n",
      "59. 0.0\n",
      "Accuracy: 100.0%\n",
      "60. 0.0\n",
      "Accuracy: 100.0%\n",
      "61. 0.0\n",
      "Accuracy: 100.0%\n",
      "62. 0.0\n",
      "Accuracy: 100.0%\n",
      "63. 0.0\n",
      "Accuracy: 100.0%\n",
      "64. 0.0\n",
      "Accuracy: 100.0%\n",
      "65. 0.0\n",
      "Accuracy: 100.0%\n",
      "66. 0.0\n",
      "Accuracy: 100.0%\n",
      "67. 0.0\n",
      "Accuracy: 100.0%\n",
      "68. 0.0\n",
      "Accuracy: 100.0%\n",
      "69. 0.0\n",
      "Accuracy: 100.0%\n",
      "70. 0.0\n",
      "Accuracy: 100.0%\n",
      "71. 0.0\n",
      "Accuracy: 100.0%\n",
      "72. 0.0\n",
      "Accuracy: 100.0%\n",
      "73. 0.0\n",
      "Accuracy: 100.0%\n",
      "74. 0.0\n",
      "Accuracy: 100.0%\n",
      "75. 0.0\n",
      "Accuracy: 100.0%\n",
      "76. 0.0\n",
      "Accuracy: 100.0%\n",
      "77. 0.0\n",
      "Accuracy: 100.0%\n",
      "78. 0.0\n",
      "Accuracy: 100.0%\n",
      "79. 0.0\n",
      "Accuracy: 100.0%\n",
      "80. 0.0\n",
      "Accuracy: 100.0%\n",
      "81. 0.0\n",
      "Accuracy: 100.0%\n",
      "82. 0.0\n",
      "Accuracy: 100.0%\n",
      "83. 0.0\n",
      "Accuracy: 100.0%\n",
      "84. 0.0\n",
      "Accuracy: 100.0%\n",
      "85. 0.0\n",
      "Accuracy: 100.0%\n",
      "86. 0.0\n",
      "Accuracy: 100.0%\n",
      "87. 0.0\n",
      "Accuracy: 100.0%\n",
      "88. 0.0\n",
      "Accuracy: 100.0%\n",
      "89. 0.0\n",
      "Accuracy: 100.0%\n",
      "90. 0.0\n",
      "Accuracy: 100.0%\n",
      "91. 0.0\n",
      "Accuracy: 100.0%\n",
      "92. 0.0\n",
      "Accuracy: 100.0%\n",
      "93. 0.0\n",
      "Accuracy: 100.0%\n",
      "94. 0.0\n",
      "Accuracy: 100.0%\n",
      "95. 0.0\n",
      "Accuracy: 100.0%\n",
      "96. 0.0\n",
      "Accuracy: 100.0%\n",
      "97. 0.0\n",
      "Accuracy: 100.0%\n",
      "98. 0.0\n",
      "Accuracy: 100.0%\n",
      "99. 0.0\n",
      "Accuracy: 100.0%\n"
     ]
    }
   ],
   "source": [
    "train_y1 = np.expand_dims(np.zeros(np.shape(train_start_imgs)[0]), axis=1)\n",
    "train_y2 = np.expand_dims(np.ones(np.shape(train_end_imgs)[0]), axis=1)\n",
    "for epoch in range(100):\n",
    "    for i in range(np.shape(train_start_imgs)[0]):\n",
    "        _, cost_val = sess.run([train_op, loss], \n",
    "                               feed_dict={x1: train_start_imgs[i:i+1,:], \n",
    "                                          x2: train_end_imgs[i:i+1,:], \n",
    "                                          dropout_keep_prob: 0.5})\n",
    "    print('{}. {}'.format(epoch, cost_val))\n",
    "    s1_val, s2_val = sess.run([s1, s2], feed_dict={x1: test_start_imgs, x2: test_end_imgs, dropout_keep_prob: 1})\n",
    "    print('Accuracy: {}%'.format(100 * np.mean(s1_val < s2_val)))\n"
   ]
  },
  {
   "cell_type": "code",
   "execution_count": 8,
   "metadata": {},
   "outputs": [
    {
     "name": "stdout",
     "output_type": "stream",
     "text": [
      "(50, 224, 224, 3)\n"
     ]
    }
   ],
   "source": [
    "def get_img_seq(video_id):\n",
    "    img_files = sorted(glob.glob(os.path.join(DATASET_DIR, video_id, '*.png')))\n",
    "    imgs = []\n",
    "    for image_file in img_files:\n",
    "        img_original = imread(image_file)\n",
    "        img_resized = imresize(img_original, (224, 224))\n",
    "        imgs.append(img_resized)\n",
    "    return imgs\n",
    "\n",
    "imgs = get_img_seq('1')\n",
    "print(np.shape(imgs))\n",
    "\n"
   ]
  },
  {
   "cell_type": "code",
   "execution_count": 9,
   "metadata": {},
   "outputs": [],
   "source": [
    "imgs_embedded = sess.run(vgg.fc1, feed_dict={vgg.imgs: imgs})\n",
    "scores = sess.run([s1], feed_dict={x1: imgs_embedded, dropout_keep_prob: 1})"
   ]
  },
  {
   "cell_type": "code",
   "execution_count": 10,
   "metadata": {},
   "outputs": [
    {
     "data": {
      "text/plain": [
       "[<matplotlib.lines.Line2D at 0x7f7796094ac8>]"
      ]
     },
     "execution_count": 10,
     "metadata": {},
     "output_type": "execute_result"
    },
    {
     "data": {
      "image/png": "[encoded data removed]",
      "text/plain": [
       "<matplotlib.figure.Figure at 0x7f7796159710>"
      ]
     },
     "metadata": {},
     "output_type": "display_data"
    }
   ],
   "source": [
    "%matplotlib inline\n",
    "from matplotlib import pyplot as plt\n",
    "plt.figure()\n",
    "plt.title('Utility of cloth-folding over time')\n",
    "plt.xlabel('time (video frame #)')\n",
    "plt.ylabel('Utility')\n",
    "plt.plot(scores[-1])"
   ]
  },
  {
   "cell_type": "raw",
   "metadata": {},
   "source": [
    "sess.close()"
   ]
  }
 ],
 "metadata": {
  "kernelspec": {
   "display_name": "Python 3",
   "language": "python",
   "name": "python3"
  },
  "language_info": {
   "codemirror_mode": {
    "name": "ipython",
    "version": 3
   },
   "file_extension": ".py",
   "mimetype": "text/x-python",
   "name": "python",
   "nbconvert_exporter": "python",
   "pygments_lexer": "ipython3",
   "version": "3.5.2"
  }
 },
 "nbformat": 4,
 "nbformat_minor": 2
}
