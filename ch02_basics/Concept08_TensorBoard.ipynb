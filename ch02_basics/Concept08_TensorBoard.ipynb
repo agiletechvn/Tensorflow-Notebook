{
 "cells": [
  {
   "cell_type": "markdown",
   "metadata": {},
   "source": [
    "# Ch `02`: Concept `08`"
   ]
  },
  {
   "cell_type": "markdown",
   "metadata": {},
   "source": [
    "## Using TensorBoard"
   ]
  },
  {
   "cell_type": "markdown",
   "metadata": {},
   "source": [
    "TensorBoard is a great way to visualize what's happening behind the code. \n",
    "\n",
    "In this example, we'll loop through some numbers to improve our guess of the average value. Then we can visualize the results on TensorBoard. \n",
    "\n",
    "Let's just set ourselves up with some data to work with:"
   ]
  },
  {
   "cell_type": "code",
   "execution_count": 1,
   "metadata": {},
   "outputs": [],
   "source": [
    "import tensorflow as tf\n",
    "import numpy as np\n",
    "\n",
    "raw_data = np.random.normal(10, 1, 100)"
   ]
  },
  {
   "cell_type": "markdown",
   "metadata": {},
   "source": [
    "The moving average is defined as follows:"
   ]
  },
  {
   "cell_type": "code",
   "execution_count": 2,
   "metadata": {},
   "outputs": [],
   "source": [
    "alpha = tf.constant(0.05)\n",
    "curr_value = tf.placeholder(tf.float32)\n",
    "prev_avg = tf.Variable(0.)\n",
    "\n",
    "update_avg = alpha * curr_value + (1 - alpha) * prev_avg"
   ]
  },
  {
   "cell_type": "markdown",
   "metadata": {},
   "source": [
    "Here's what we care to visualize:"
   ]
  },
  {
   "cell_type": "code",
   "execution_count": 3,
   "metadata": {},
   "outputs": [],
   "source": [
    "avg_hist = tf.summary.scalar(\"running_average\", update_avg)\n",
    "value_hist = tf.summary.scalar(\"incoming_values\", curr_value)\n",
    "\n",
    "merged = tf.summary.merge_all()\n",
    "writer = tf.summary.FileWriter(\"./logs\")"
   ]
  },
  {
   "cell_type": "markdown",
   "metadata": {},
   "source": [
    "Time to compute the moving averages. We'll also run the `merged` op to track how the values change:"
   ]
  },
  {
   "cell_type": "code",
   "execution_count": 4,
   "metadata": {},
   "outputs": [
    {
     "name": "stdout",
     "output_type": "stream",
     "text": [
      "8.257465289757981 0.41287327\n",
      "9.372256319131294 0.8608424\n",
      "8.900787597684145 1.2628397\n",
      "9.213822095040713 1.6603888\n",
      "9.632736526233533 2.0590062\n",
      "10.329203189521925 2.472516\n",
      "8.618908813316777 2.7798357\n",
      "10.455624672169547 3.1636252\n",
      "11.261456527681586 3.568517\n",
      "10.744342501090584 3.9273083\n",
      "9.18954374156559 4.19042\n",
      "11.619599695544991 4.561879\n",
      "10.3176257583074 4.8496666\n",
      "11.402477369917008 5.1773067\n",
      "10.200674891624315 5.428475\n",
      "9.051049317338123 5.6096034\n",
      "11.27254312960982 5.8927503\n",
      "10.677257715881405 6.1319757\n",
      "9.923527111951586 6.321553\n",
      "9.335768119095908 6.472264\n",
      "8.141561085098942 6.555729\n",
      "8.813268895362928 6.668606\n",
      "10.76275134360875 6.873313\n",
      "10.995188947424177 7.0794067\n",
      "10.277169388369611 7.2392945\n",
      "11.377016378588543 7.446181\n",
      "10.119870351689276 7.579865\n",
      "10.684962283895166 7.73512\n",
      "10.425764153045431 7.8696523\n",
      "10.34992678351747 7.9936657\n",
      "10.048960723710275 8.09643\n",
      "10.321322507159547 8.207675\n",
      "10.414877427282459 8.318035\n",
      "9.054488846816083 8.354858\n",
      "9.424890746532741 8.40836\n",
      "8.517093466088896 8.413795\n",
      "11.408139399948746 8.563513\n",
      "9.841606038310251 8.627418\n",
      "9.534933687832757 8.672793\n",
      "11.041968379496952 8.791252\n",
      "10.351039931305198 8.869242\n",
      "9.812068918160106 8.916383\n",
      "12.879691050023624 9.114549\n",
      "10.557254836949719 9.186684\n",
      "12.605963550571119 9.357648\n",
      "9.521904202575568 9.365861\n",
      "8.439402450902492 9.319538\n",
      "8.820160309838077 9.294569\n",
      "10.170149062765185 9.338348\n",
      "9.967355846723338 9.369799\n",
      "9.852944078787711 9.393956\n",
      "8.749866512846058 9.361752\n",
      "8.486392793103912 9.317983\n",
      "10.372135628266468 9.37069\n",
      "10.30206786334694 9.417259\n",
      "9.500246639646324 9.421409\n",
      "9.427930803180228 9.421735\n",
      "8.977204285034405 9.399508\n",
      "10.536875133975991 9.456377\n",
      "8.582145061864702 9.412665\n",
      "9.430587031707685 9.413561\n",
      "9.965713426322427 9.441168\n",
      "11.584174117469978 9.548318\n",
      "10.179748085595122 9.579889\n",
      "9.068587723701906 9.554324\n",
      "11.251817808826956 9.639198\n",
      "11.26637319135102 9.720556\n",
      "9.095651011152167 9.689311\n",
      "9.71457092278613 9.690574\n",
      "11.103055919579216 9.761198\n",
      "9.794524288425587 9.762864\n",
      "9.893036251829253 9.769373\n",
      "10.626603024966453 9.812234\n",
      "9.763210804934316 9.809782\n",
      "9.475637168618537 9.793075\n",
      "10.79794584719907 9.843318\n",
      "8.667851301490668 9.784545\n",
      "9.863579448262353 9.788497\n",
      "10.580892413497356 9.828117\n",
      "9.259552811312915 9.799688\n",
      "8.08578446172765 9.713993\n",
      "11.416904660691005 9.799139\n",
      "9.000165202214337 9.759191\n",
      "10.481957205269955 9.795328\n",
      "11.106400390411661 9.860882\n",
      "8.60558140965957 9.798117\n",
      "9.744979121706567 9.79546\n",
      "10.190375143014128 9.815206\n",
      "11.152492030773585 9.88207\n",
      "9.779673539044147 9.87695\n",
      "10.101509233859856 9.888178\n",
      "9.159911744517645 9.851765\n",
      "10.435466507927218 9.88095\n",
      "10.590174647426254 9.916411\n",
      "11.62669052199023 10.0019245\n",
      "9.393586832205214 9.971508\n",
      "10.646871723698034 10.005277\n",
      "8.248509254426416 9.917438\n",
      "10.593591283096526 9.951245\n",
      "8.270001947108733 9.867183\n"
     ]
    }
   ],
   "source": [
    "init = tf.global_variables_initializer()\n",
    "\n",
    "with tf.Session() as sess:\n",
    "    sess.run(init)\n",
    "    for i in range(len(raw_data)):\n",
    "        summary_str, curr_avg = sess.run([merged, update_avg], feed_dict={curr_value: raw_data[i]})\n",
    "        sess.run(tf.assign(prev_avg, curr_avg))\n",
    "        print(raw_data[i], curr_avg)\n",
    "        writer.add_summary(summary_str, i)"
   ]
  },
  {
   "cell_type": "markdown",
   "metadata": {},
   "source": [
    "Check out the visualization by running TensorBoard from the terminal:\n",
    "\n",
    "    $ tensorboard --logdir=path/to/logs"
   ]
  },
  {
   "cell_type": "code",
   "execution_count": 5,
   "metadata": {},
   "outputs": [],
   "source": [
    "#made the logs be written successfully\n",
    "writer.close()"
   ]
  },
  {
   "cell_type": "code",
   "execution_count": null,
   "metadata": {},
   "outputs": [],
   "source": []
  }
 ],
 "metadata": {
  "kernelspec": {
   "display_name": "Python 3",
   "language": "python",
   "name": "python3"
  },
  "language_info": {
   "codemirror_mode": {
    "name": "ipython",
    "version": 3
   },
   "file_extension": ".py",
   "mimetype": "text/x-python",
   "name": "python",
   "nbconvert_exporter": "python",
   "pygments_lexer": "ipython3",
   "version": "3.6.5"
  }
 },
 "nbformat": 4,
 "nbformat_minor": 1
}
